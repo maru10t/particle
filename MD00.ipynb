{
 "cells": [
  {
   "cell_type": "code",
   "execution_count": null,
   "metadata": {},
   "outputs": [],
   "source": [
    "function c_calc_step_md(dstep, N, mass, posx, posy, velx, vely)\n",
    " ccall((:calc_step_md, \"./libmd.so\"), Void, (Cint,Cint,Ptr{Cdouble}, Ptr{Cdouble}, Ptr{Cdouble}, Ptr{Cdouble}, Ptr{Cdouble}),\n",
    "    dstep, N, mass, posx, posy, velx, vely)\n",
    "end"
   ]
  },
  {
   "cell_type": "code",
   "execution_count": null,
   "metadata": {},
   "outputs": [],
   "source": [
    "using Plots\n",
    "pyplot(legend=false)\n",
    "\n",
    "function plot_circle!(px,py,r; c=:black)\n",
    "    pts = Plots.partialcircle(0,2*3.1415,100,r)\n",
    "    x,y = Plots.unzip(pts)\n",
    "    x += px\n",
    "    y += py\n",
    "    pts = collect(zip(x,y))\n",
    "    plot!(Shape(x,y), xlim=(0.0,10.0), ylim=(0.0,10.0),c=c)\n",
    "end"
   ]
  },
  {
   "cell_type": "code",
   "execution_count": null,
   "metadata": {},
   "outputs": [],
   "source": [
    "function init_cond(;V0 = 1.0, density=0.5)\n",
    "    nx = 10 :: Int\n",
    "    ny = 10 :: Int\n",
    "    \n",
    "    mass = Float64[]\n",
    "    posx = Float64[]\n",
    "    posy = Float64[]\n",
    "    velx = Float64[]\n",
    "    vely = Float64[]\n",
    "    \n",
    "    density = 0.5\n",
    "    s = (density*0.25)^(-0.5)\n",
    "    is = Int(floor(10.0/s))\n",
    "    for i = 0:is-1\n",
    "        for j = 0:is-1\n",
    "            push!(mass, 1.0)\n",
    "            \n",
    "            phi = 2.0 * rand() * pi\n",
    "            vx = V0 * cos(phi)\n",
    "            vy = V0 * sin(phi)\n",
    "\n",
    "            push!(velx, vx)\n",
    "            push!(vely, vy)\n",
    "\n",
    "            px = i*s\n",
    "            py = j*s\n",
    "            push!(posx, px)\n",
    "            push!(posy, py)\n",
    "        end\n",
    "    end\n",
    "    \n",
    "    return mass,posx,posy,velx,vely\n",
    "end"
   ]
  },
  {
   "cell_type": "code",
   "execution_count": null,
   "metadata": {
    "scrolled": true
   },
   "outputs": [],
   "source": [
    "function plot_particles(mass,posx,posy,velx,vely)\n",
    "    plot()\n",
    "    N = length(posx)\n",
    "    for i = 1:N\n",
    "        plot_circle!(posx[i], posy[i], 0.1)# mass[i])\n",
    "    end\n",
    "    plot!()\n",
    "end"
   ]
  },
  {
   "cell_type": "code",
   "execution_count": null,
   "metadata": {
    "scrolled": false
   },
   "outputs": [],
   "source": [
    "mass,posx,posy,velx,vely = init_cond(density=1.5)\n",
    "N = length(mass)\n",
    "\n",
    "@gif for i = 1:1000\n",
    "    c_calc_step_md(10, N, mass, posx, posy, velx, vely)\n",
    "    plot_particles(mass,posx,posy,velx,vely)\n",
    "end"
   ]
  },
  {
   "cell_type": "code",
   "execution_count": null,
   "metadata": {},
   "outputs": [],
   "source": [
    "plot_particles(mass,posx,posy,velx,vely)"
   ]
  },
  {
   "cell_type": "code",
   "execution_count": null,
   "metadata": {
    "collapsed": true
   },
   "outputs": [],
   "source": []
  },
  {
   "cell_type": "code",
   "execution_count": null,
   "metadata": {
    "collapsed": true
   },
   "outputs": [],
   "source": []
  }
 ],
 "metadata": {
  "kernelspec": {
   "display_name": "Julia 0.6.2",
   "language": "julia",
   "name": "julia-0.6"
  },
  "language_info": {
   "file_extension": ".jl",
   "mimetype": "application/julia",
   "name": "julia",
   "version": "0.6.2"
  }
 },
 "nbformat": 4,
 "nbformat_minor": 2
}
